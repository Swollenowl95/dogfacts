{
  "nbformat": 4,
  "nbformat_minor": 0,
  "metadata": {
    "colab": {
      "provenance": [],
      "authorship_tag": "ABX9TyOv9URzz9oiJiiaaYNPI1CS",
      "include_colab_link": true
    },
    "kernelspec": {
      "name": "python3",
      "display_name": "Python 3"
    },
    "language_info": {
      "name": "python"
    }
  },
  "cells": [
    {
      "cell_type": "markdown",
      "metadata": {
        "id": "view-in-github",
        "colab_type": "text"
      },
      "source": [
        "<a href=\"https://colab.research.google.com/github/Swollenowl95/dogfacts/blob/main/OrderedArrays_implementation.ipynb\" target=\"_parent\"><img src=\"https://colab.research.google.com/assets/colab-badge.svg\" alt=\"Open In Colab\"/></a>"
      ]
    },
    {
      "cell_type": "code",
      "execution_count": null,
      "metadata": {
        "id": "pTjGluH4u39z"
      },
      "outputs": [],
      "source": [
        "import numpy as np\n",
        "class OrderedArray:\n",
        "  def __init__(self,capacity):\n",
        "    self.capacity=capacity\n",
        "    self.last_position = -1\n",
        "    self.values = np.empty(self.capacity,dtype=int)\n",
        "\n",
        "  def print(self):\n",
        "    if self.last_position == -1:\n",
        "      print('the array is empty')\n",
        "    else:\n",
        "      for i in range(self.last_position + 1):\n",
        "        print(i, ' - ', self.values[i])\n",
        "\n",
        "  def insert(self, value):\n",
        "    if self.last_position == self.capacity - 1:\n",
        "      print('Maximum capacity has been reached!')\n",
        "      return\n",
        "\n",
        "    position = 0\n",
        "    for i in range(self.last_position + 1):\n",
        "      position = i\n",
        "      if value < self.values[i]:\n",
        "        break\n",
        "      if i == self.last_position:\n",
        "        position = i + 1\n",
        "\n",
        "    x = self.last_position\n",
        "    while x >= position:\n",
        "      self.values[x + 1] = self.values[x]\n",
        "      x -= 1\n",
        "\n",
        "    self.values[x + 1] = value\n",
        "    self.last_position += 1"
      ]
    },
    {
      "cell_type": "code",
      "source": [
        "array = OrderedArray(10)\n",
        "array.print()"
      ],
      "metadata": {
        "colab": {
          "base_uri": "https://localhost:8080/"
        },
        "id": "vwGvf2SCd5nl",
        "outputId": "a93e6ed8-8490-431f-a4fe-79f70e5d6f42"
      },
      "execution_count": null,
      "outputs": [
        {
          "output_type": "stream",
          "name": "stdout",
          "text": [
            "the array is empty\n"
          ]
        }
      ]
    },
    {
      "cell_type": "code",
      "source": [
        "array.insert(6)\n",
        "array.print()"
      ],
      "metadata": {
        "colab": {
          "base_uri": "https://localhost:8080/",
          "height": 164
        },
        "id": "nMPFjN34ekli",
        "outputId": "c27f3ae4-ee0e-461d-87a1-b93830f0e802"
      },
      "execution_count": 1,
      "outputs": [
        {
          "output_type": "error",
          "ename": "NameError",
          "evalue": "name 'array' is not defined",
          "traceback": [
            "\u001b[0;31m---------------------------------------------------------------------------\u001b[0m",
            "\u001b[0;31mNameError\u001b[0m                                 Traceback (most recent call last)",
            "\u001b[0;32m/tmp/ipython-input-1-4125141028.py\u001b[0m in \u001b[0;36m<cell line: 0>\u001b[0;34m()\u001b[0m\n\u001b[0;32m----> 1\u001b[0;31m \u001b[0marray\u001b[0m\u001b[0;34m.\u001b[0m\u001b[0minsert\u001b[0m\u001b[0;34m(\u001b[0m\u001b[0;36m6\u001b[0m\u001b[0;34m)\u001b[0m\u001b[0;34m\u001b[0m\u001b[0;34m\u001b[0m\u001b[0m\n\u001b[0m\u001b[1;32m      2\u001b[0m \u001b[0marray\u001b[0m\u001b[0;34m.\u001b[0m\u001b[0mprint\u001b[0m\u001b[0;34m(\u001b[0m\u001b[0;34m)\u001b[0m\u001b[0;34m\u001b[0m\u001b[0;34m\u001b[0m\u001b[0m\n",
            "\u001b[0;31mNameError\u001b[0m: name 'array' is not defined"
          ]
        }
      ]
    }
  ]
}